{
 "cells": [
  {
   "cell_type": "code",
   "execution_count": 1,
   "id": "a7a968a3",
   "metadata": {},
   "outputs": [],
   "source": [
    "import json\n",
    "\n",
    "import networkx as nx"
   ]
  },
  {
   "cell_type": "code",
   "execution_count": 6,
   "outputs": [],
   "source": [
    "def get_imp(text):\n",
    "    for i in range(10):\n",
    "        text=text.split(str(i))[0]\n",
    "    for i in ['یک', 'دو', 'سه', 'چهار']:\n",
    "        text=text.split(i)[0]\n",
    "    return text.split(\"به\")[0].rstrip().lstrip()"
   ],
   "metadata": {
    "collapsed": false,
    "pycharm": {
     "name": "#%%\n"
    }
   }
  },
  {
   "cell_type": "code",
   "execution_count": 7,
   "id": "6cf1c8ac",
   "metadata": {},
   "outputs": [],
   "source": [
    "with open('searches/data/all_foods.json', mode='r') as f:\n",
    "    data = json.load(f)\n",
    "for food in data:\n",
    "    for i in range(len(food['ingredients'])):\n",
    "        food['ingredients'][i]=get_imp(food['ingredients'][i])\n",
    "foods = [i['name'].strip() for i in data]\n",
    "ingredients_foods = {j.strip():[] for i in data for j in i['ingredients']}\n",
    "for i in data:\n",
    "    for j in i['ingredients']:\n",
    "        ingredients_foods[j.strip()].append(i['name'])\n"
   ]
  },
  {
   "cell_type": "markdown",
   "id": "133b83f9",
   "metadata": {},
   "source": [
    "<div dir=rtl style=\"font-size: 30px; font-family: XB Niloofar;\">\n",
    "گراف موادغذایی-غذا\n",
    "</div>\n",
    "\n",
    "<div dir=rtl style=\"font-size: 18px; font-family: XB Niloofar;\">\n",
    "این گراف یک گراف دو بخشی است که یک بخش آن مواد غذایی و بخش دیگر آن غذاها هستند. بین یک غذا و ماده غذایی یال وجود دارد اگر که آن ماده غذایی در غذا به کار رفته باشد.\n",
    "</div>"
   ]
  },
  {
   "cell_type": "code",
   "execution_count": 8,
   "id": "58f6dcd0",
   "metadata": {},
   "outputs": [],
   "source": [
    "G = nx.Graph()\n",
    "G.add_nodes_from(foods)\n",
    "G.add_nodes_from(ingredients_foods.keys())"
   ]
  },
  {
   "cell_type": "code",
   "execution_count": 9,
   "id": "4f22893c",
   "metadata": {},
   "outputs": [],
   "source": [
    "for i, j in ingredients_foods.items():\n",
    "    for k in j:\n",
    "        G.add_edge(i, k)"
   ]
  },
  {
   "cell_type": "code",
   "execution_count": 10,
   "id": "6d8ccdda",
   "metadata": {
    "pycharm": {
     "name": "#%%\n"
    }
   },
   "outputs": [],
   "source": [
    "pr = nx.pagerank(G)\n",
    "with open(\"searches/data/link1.json\", \"w\", encoding=\"utf-8\") as file:\n",
    "    link1=sorted([(i, j) for i, j in pr.items()], key=lambda x: x[1], reverse=True)\n",
    "    json.dump(link1, file)"
   ]
  },
  {
   "cell_type": "code",
   "execution_count": null,
   "outputs": [],
   "source": [],
   "metadata": {
    "collapsed": false,
    "pycharm": {
     "name": "#%%\n"
    }
   }
  }
 ],
 "metadata": {
  "kernelspec": {
   "display_name": "Python 3 (ipykernel)",
   "language": "python",
   "name": "python3"
  },
  "language_info": {
   "codemirror_mode": {
    "name": "ipython",
    "version": 3
   },
   "file_extension": ".py",
   "mimetype": "text/x-python",
   "name": "python",
   "nbconvert_exporter": "python",
   "pygments_lexer": "ipython3",
   "version": "3.10.4"
  }
 },
 "nbformat": 4,
 "nbformat_minor": 5
}