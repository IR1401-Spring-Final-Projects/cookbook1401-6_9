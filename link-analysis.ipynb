{
 "cells": [
  {
   "cell_type": "code",
   "execution_count": 14,
   "id": "a7a968a3",
   "metadata": {},
   "outputs": [],
   "source": [
    "import json\n",
    "\n",
    "import networkx as nx"
   ]
  },
  {
   "cell_type": "code",
   "execution_count": 10,
   "id": "6cf1c8ac",
   "metadata": {},
   "outputs": [],
   "source": [
    "with open('searches/data/all_foods.json', mode='r') as f:\n",
    "    data = json.load(f)\n",
    "foods = [i['name'].strip() for i in data]\n",
    "ingredients_foods = {j.strip():[] for i in data for j in i['ingredients']}\n",
    "for i in data:\n",
    "    for j in i['ingredients']:\n",
    "        ingredients_foods[j.strip()].append(i['name'])"
   ]
  },
  {
   "cell_type": "markdown",
   "id": "133b83f9",
   "metadata": {},
   "source": [
    "<div dir=rtl style=\"font-size: 30px; font-family: XB Niloofar;\">\n",
    "گراف موادغذایی-غذا\n",
    "</div>\n",
    "\n",
    "<div dir=rtl style=\"font-size: 18px; font-family: XB Niloofar;\">\n",
    "این گراف یک گراف دو بخشی است که یک بخش آن مواد غذایی و بخش دیگر آن غذاها هستند. بین یک غذا و ماده غذایی یال وجود دارد اگر که آن ماده غذایی در غذا به کار رفته باشد.\n",
    "</div>"
   ]
  },
  {
   "cell_type": "code",
   "execution_count": 21,
   "id": "58f6dcd0",
   "metadata": {},
   "outputs": [],
   "source": [
    "G = nx.Graph()\n",
    "G.add_nodes_from(foods)\n",
    "G.add_nodes_from(ingredients_foods.keys())"
   ]
  },
  {
   "cell_type": "code",
   "execution_count": 22,
   "id": "4f22893c",
   "metadata": {},
   "outputs": [],
   "source": [
    "for i, j in ingredients_foods.items():\n",
    "    for k in j:\n",
    "        G.add_edge(i, k)"
   ]
  },
  {
   "cell_type": "code",
   "execution_count": 23,
   "id": "6d8ccdda",
   "metadata": {},
   "outputs": [],
   "source": [
    "pr = nx.pagerank(G)\n",
    "with open(\"searches/data/link1.json\", \"w\", encoding=\"utf-8\") as file:\n",
    "    link1=sorted([(i, j) for i, j in pr.items()], key=lambda x: x[1], reverse=True)\n",
    "    json.dump(link1, file)"
   ]
  },
  {
   "cell_type": "code",
   "execution_count": 24,
   "id": "ac180822",
   "metadata": {},
   "outputs": [],
   "source": [
    "G = nx.DiGraph()\n",
    "G.add_nodes_from(foods)\n",
    "G.add_nodes_from(ingredients_foods.keys())\n",
    "for i, j in ingredients_foods.items():\n",
    "    for k in j:\n",
    "        G.add_edge(k, i)\n",
    "hubs, authorities = nx.hits(G)"
   ]
  },
  {
   "cell_type": "code",
   "execution_count": 26,
   "id": "c61eff6d",
   "metadata": {},
   "outputs": [],
   "source": [
    "with open(\"searches/data/link2.json\", \"w\", encoding=\"utf-8\") as file:\n",
    "    link2=sorted([(i, j) for i, j in hubs.items()], key=lambda x: x[1], reverse=True)\n",
    "    json.dump(link2, file)"
   ]
  },
  {
   "cell_type": "code",
   "execution_count": 20,
   "id": "a29f534f",
   "metadata": {},
   "outputs": [
    {
     "data": {
      "text/plain": "[('پیاز 1 عدد', 0.021607435394571866),\n ('نمک و فلفل به مقدار لازم', 0.015428953218865773),\n ('روغن به مقدار لازم', 0.01119192274732928),\n ('روغن مایع مقدار کافی', 0.00848881962408101),\n ('زردچوبه به مقدار لازم', 0.008417779870769755),\n ('روغن به میزان لازم', 0.007956660178966127),\n ('پیاز 2 عدد', 0.007817132646301395),\n ('نمک به مقدار لازم', 0.007805287311180096),\n ('نمک و فلفل به میزان لازم', 0.0076326936432505),\n ('سیر 2 حبه', 0.0069840179786986555),\n ('پیاز یک عدد', 0.005519945459536261),\n ('آب به مقدار لازم', 0.005222387095815736),\n ('تخم مرغ 1 عدد', 0.005179734118639716),\n ('تخم مرغ 2 عدد', 0.004923748317575209),\n ('نمک به میزان لازم', 0.004890660874992522),\n ('نمک،فلفل،زردچوبه به مقدار لازم', 0.004757237550071242),\n ('نمک،فلفل،زردچوبه به میزان لازم', 0.0047570639454058775),\n ('پیاز 1عدد', 0.004672552259014872),\n ('نمک فلفل زردچوبه مقدار کافی', 0.004487300728676204),\n ('نمک فلفل مقدار کافی', 0.004106919634678969)]"
     },
     "execution_count": 20,
     "metadata": {},
     "output_type": "execute_result"
    }
   ],
   "source": [
    "sorted([(i, j) for i, j in authorities.items()], key=lambda x: x[1], reverse=True)[:20]"
   ]
  },
  {
   "cell_type": "code",
   "execution_count": null,
   "id": "9a96f00c",
   "metadata": {},
   "outputs": [],
   "source": []
  }
 ],
 "metadata": {
  "kernelspec": {
   "display_name": "Python 3 (ipykernel)",
   "language": "python",
   "name": "python3"
  },
  "language_info": {
   "codemirror_mode": {
    "name": "ipython",
    "version": 3
   },
   "file_extension": ".py",
   "mimetype": "text/x-python",
   "name": "python",
   "nbconvert_exporter": "python",
   "pygments_lexer": "ipython3",
   "version": "3.10.4"
  }
 },
 "nbformat": 4,
 "nbformat_minor": 5
}